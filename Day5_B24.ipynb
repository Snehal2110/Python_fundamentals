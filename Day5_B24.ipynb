{
 "cells": [
  {
   "cell_type": "code",
   "execution_count": null,
   "metadata": {},
   "outputs": [],
   "source": [
    "#day5"
   ]
  },
  {
   "cell_type": "code",
   "execution_count": null,
   "metadata": {},
   "outputs": [],
   "source": [
    "#introduction to for loops"
   ]
  },
  {
   "cell_type": "code",
   "execution_count": 2,
   "metadata": {},
   "outputs": [],
   "source": [
    "my_students=['nikitha','kiran','meenakshi','ananth','sameer','aparna']"
   ]
  },
  {
   "cell_type": "code",
   "execution_count": 3,
   "metadata": {},
   "outputs": [
    {
     "name": "stdout",
     "output_type": "stream",
     "text": [
      "['nikitha', 'kiran', 'meenakshi', 'ananth', 'sameer', 'aparna']\n"
     ]
    }
   ],
   "source": [
    "print(my_students)"
   ]
  },
  {
   "cell_type": "code",
   "execution_count": 4,
   "metadata": {},
   "outputs": [
    {
     "data": {
      "text/plain": [
       "list"
      ]
     },
     "execution_count": 4,
     "metadata": {},
     "output_type": "execute_result"
    }
   ],
   "source": [
    "type(my_students)"
   ]
  },
  {
   "cell_type": "code",
   "execution_count": 5,
   "metadata": {},
   "outputs": [
    {
     "name": "stdout",
     "output_type": "stream",
     "text": [
      "keep up the good work,nikitha\n"
     ]
    }
   ],
   "source": [
    "print(f\"keep up the good work,{my_students[0]}\")"
   ]
  },
  {
   "cell_type": "code",
   "execution_count": 6,
   "metadata": {},
   "outputs": [
    {
     "name": "stdout",
     "output_type": "stream",
     "text": [
      "keep up the good work,kiran\n"
     ]
    }
   ],
   "source": [
    "print(f\"keep up the good work,{my_students[1]}\")"
   ]
  },
  {
   "cell_type": "code",
   "execution_count": 7,
   "metadata": {},
   "outputs": [
    {
     "name": "stdout",
     "output_type": "stream",
     "text": [
      "keep up the good work,meenakshi\n"
     ]
    }
   ],
   "source": [
    "print(f\"keep up the good work,{my_students[2]}\")"
   ]
  },
  {
   "cell_type": "code",
   "execution_count": null,
   "metadata": {},
   "outputs": [],
   "source": [
    "#implementation of for loop"
   ]
  },
  {
   "cell_type": "code",
   "execution_count": 12,
   "metadata": {},
   "outputs": [
    {
     "name": "stdout",
     "output_type": "stream",
     "text": [
      "keep up the good work,nikitha\n",
      "keep up the good work,kiran\n",
      "keep up the good work,meenakshi\n",
      "keep up the good work,ananth\n",
      "keep up the good work,sameer\n",
      "keep up the good work,aparna\n"
     ]
    }
   ],
   "source": [
    "for student in my_students:\n",
    "      print(f\"keep up the good work,{student}\")"
   ]
  },
  {
   "cell_type": "code",
   "execution_count": 14,
   "metadata": {},
   "outputs": [
    {
     "name": "stdout",
     "output_type": "stream",
     "text": [
      "keep up the good work nikitha\n",
      "keep up the good work kiran\n",
      "keep up the good work meenakshi\n",
      "keep up the good work ananth\n",
      "keep up the good work sameer\n",
      "keep up the good work aparna\n"
     ]
    }
   ],
   "source": [
    "for x in my_students:\n",
    "    print (f\"keep up the good work {x}\")"
   ]
  },
  {
   "cell_type": "code",
   "execution_count": 15,
   "metadata": {},
   "outputs": [
    {
     "name": "stdout",
     "output_type": "stream",
     "text": [
      "nikitha\n",
      "kiran\n",
      "meenakshi\n",
      "ananth\n",
      "sameer\n",
      "aparna\n"
     ]
    }
   ],
   "source": [
    "for x in my_students:\n",
    "    print (x)"
   ]
  },
  {
   "cell_type": "code",
   "execution_count": 18,
   "metadata": {},
   "outputs": [
    {
     "name": "stdout",
     "output_type": "stream",
     "text": [
      "keep up the good work,nikitha\n",
      "im looking forward to recieve your practice files, nikitha.\n",
      "\n",
      "keep up the good work,kiran\n",
      "im looking forward to recieve your practice files, kiran.\n",
      "\n",
      "keep up the good work,meenakshi\n",
      "im looking forward to recieve your practice files, meenakshi.\n",
      "\n",
      "keep up the good work,ananth\n",
      "im looking forward to recieve your practice files, ananth.\n",
      "\n",
      "keep up the good work,sameer\n",
      "im looking forward to recieve your practice files, sameer.\n",
      "\n",
      "keep up the good work,aparna\n",
      "im looking forward to recieve your practice files, aparna.\n",
      "\n"
     ]
    }
   ],
   "source": [
    "for student in my_students:\n",
    "    print(f\"keep up the good work,{student}\")\n",
    "    print(f\"im looking forward to recieve your practice files, {student}.\\n\")"
   ]
  },
  {
   "cell_type": "code",
   "execution_count": 19,
   "metadata": {},
   "outputs": [
    {
     "name": "stdout",
     "output_type": "stream",
     "text": [
      "keep up the good work,nikitha\n",
      "im looking forward to recieve your practice files, nikitha.\n",
      "\n",
      "keep up the good work,kiran\n",
      "im looking forward to recieve your practice files, kiran.\n",
      "\n",
      "keep up the good work,meenakshi\n",
      "im looking forward to recieve your practice files, meenakshi.\n",
      "\n",
      "keep up the good work,ananth\n",
      "im looking forward to recieve your practice files, ananth.\n",
      "\n",
      "keep up the good work,sameer\n",
      "im looking forward to recieve your practice files, sameer.\n",
      "\n",
      "keep up the good work,aparna\n",
      "im looking forward to recieve your practice files, aparna.\n",
      "\n",
      "thank you all for showing intrest in learning python\n"
     ]
    }
   ],
   "source": [
    "for student in my_students:\n",
    "    print(f\"keep up the good work,{student}\")\n",
    "    print(f\"im looking forward to recieve your practice files, {student}.\\n\")\n",
    "print(\"thank you all for showing intrest in learning python\")"
   ]
  },
  {
   "cell_type": "code",
   "execution_count": null,
   "metadata": {},
   "outputs": [],
   "source": []
  },
  {
   "cell_type": "code",
   "execution_count": null,
   "metadata": {},
   "outputs": [],
   "source": []
  },
  {
   "cell_type": "code",
   "execution_count": null,
   "metadata": {},
   "outputs": [],
   "source": []
  }
 ],
 "metadata": {
  "kernelspec": {
   "display_name": "Python 3",
   "language": "python",
   "name": "python3"
  },
  "language_info": {
   "codemirror_mode": {
    "name": "ipython",
    "version": 3
   },
   "file_extension": ".py",
   "mimetype": "text/x-python",
   "name": "python",
   "nbconvert_exporter": "python",
   "pygments_lexer": "ipython3",
   "version": "3.7.6"
  }
 },
 "nbformat": 4,
 "nbformat_minor": 4
}
